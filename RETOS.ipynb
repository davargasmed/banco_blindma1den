{
  "nbformat": 4,
  "nbformat_minor": 0,
  "metadata": {
    "colab": {
      "provenance": [],
      "authorship_tag": "ABX9TyN8npJbtH54OdBn1WMM2u43",
      "include_colab_link": true
    },
    "kernelspec": {
      "name": "python3",
      "display_name": "Python 3"
    }
  },
  "cells": [
    {
      "cell_type": "markdown",
      "metadata": {
        "id": "view-in-github",
        "colab_type": "text"
      },
      "source": [
        "<a href=\"https://colab.research.google.com/github/davargasmed/banco_blindma1den/blob/master/RETOS.ipynb\" target=\"_parent\"><img src=\"https://colab.research.google.com/assets/colab-badge.svg\" alt=\"Open In Colab\"/></a>"
      ]
    },
    {
      "cell_type": "markdown",
      "source": [
        "ejercicio de banco del discord\n"
      ],
      "metadata": {
        "id": "lB2VOAiMnklF"
      }
    },
    {
      "cell_type": "code",
      "source": [
        "banco = {'david22': ['miclave', 2000] ,\n",
        "         'liss97' : ['suclave' , 2000]\n",
        "         }\n",
        "c = 3\n",
        "\n",
        "\n",
        "def depositar(): #funcion para hacer depositos a la cuenta\n",
        "    deposito = int(input('Cuanto dinero va a depositar?\\n$'))\n",
        "    banco[user][1] = banco[user][1] + deposito\n",
        "    print('su nuevo saldo es: $',banco[user][1])\n",
        "\n",
        "def retirar():#funcion para retirar dinero de la cuenta\n",
        "    retiro = int(input('Cuanto dinero quiere retirar?\\n$'))\n",
        "    if retiro > banco[user][1]:\n",
        "        print('fondos insuficientes')\n",
        "    else:\n",
        "        banco[user][1] = banco[user][1]-retiro\n",
        "        print('su nuevo saldo es: ',banco[user][1])\n",
        "\n",
        "def ver_saldo():#funcion para ver el saldo en la cuenta\n",
        "    print('su saldo es: ', banco[user][1])\n",
        "\n",
        "def transferir():#funcion para transferir dinero a otra cuenta\n",
        "    print('a que cuenta quiere transferir dinero?')\n",
        "\n",
        "\n",
        "for i in range(c):\n",
        "    user = input('ingrese su usuario: ')\n",
        "\n",
        "\n",
        "    if user in banco:\n",
        "        password = input('ingrese su contraseña: ')\n",
        "\n",
        "\n",
        "        if password in banco[user]:\n",
        "            print ('***Ingreso correctamente***')\n",
        "            print('Su saldo es: ', banco[user][1])\n",
        "            print('*****************************************************************')\n",
        "            print('¿Qué deseas hacer?:\\n'\n",
        "            '1.Depositar\\n'\n",
        "            '2.Retirar\\n'\n",
        "            '3.Ver saldo\\n'\n",
        "            '4.Transferir\\n'\n",
        "            '5.Nada')\n",
        "\n",
        "            opcion = int(input('Digita el numero de la opcion: '))\n",
        "            if opcion == 1:\n",
        "                depositar()\n",
        "            if opcion == 2:\n",
        "                retirar()\n",
        "            if opcion == 3:\n",
        "                ver_saldo()\n",
        "            if opcion == 4:\n",
        "                transferir()\n",
        "            if opcion == 5:\n",
        "                print('Gracias por usar nuestros servicios, hasta pronto.')\n",
        "            break\n",
        "\n",
        "        else:\n",
        "            fallo = 2\n",
        "            fallo = fallo - i\n",
        "            print('usuario o contraseña incorrecto, intentos restantes:', fallo)\n",
        "    else:\n",
        "        fallo = 2\n",
        "        fallo = fallo-i\n",
        "        print('usuario o contraseña incorrecto, intentos restantes:',fallo)\n",
        "\n",
        "#ponemos un comentario para probar"
      ],
      "metadata": {
        "id": "ho6INzvDkt5k"
      },
      "execution_count": null,
      "outputs": []
    },
    {
      "cell_type": "code",
      "source": [
        "banco = {'david22': ['2208', 2000] ,\n",
        "         'liss97' : ['suclave' , 3000]\n",
        "         }\n",
        "\n",
        "almacen = banco['david22'][1]\n",
        "deposito = 1000\n",
        "banco['david22'][1] = banco['david22'][1] + deposito\n",
        "banco['david22'][1]"
      ],
      "metadata": {
        "colab": {
          "base_uri": "https://localhost:8080/"
        },
        "id": "xGizkNB1s-oi",
        "outputId": "fb6c95dd-1a12-4b0f-e031-1c4feeee9179"
      },
      "execution_count": null,
      "outputs": [
        {
          "output_type": "execute_result",
          "data": {
            "text/plain": [
              "3000"
            ]
          },
          "metadata": {},
          "execution_count": 8
        }
      ]
    }
  ]
}